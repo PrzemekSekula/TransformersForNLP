{
 "cells": [
  {
   "cell_type": "markdown",
   "metadata": {},
   "source": [
    "# Encoder-decoder network implementation\n",
    "---\n",
    "The third notebook in the row. It assumes that we know how to build both Encoder and Decoder networks.\n",
    "\n",
    "The general idea is to create and combine two networks - endoder and decoder.\n",
    "After using N encoder bloks we take key `K` and `V` from the final block and inject them to every\n",
    "decoder block. In the decoder block query `Q` comes from the decoder, whereas `K` and `V` come from the encoder. We may interpret is as: how much the word `Q` (from translation) should pay attention to each words (`K`) in the sentence.\n",
    "\n",
    "\n",
    " <img src=\"./images/encoder-decoder.png\" alt=\"Attention and Multi-head Attention\" width=\"545\" />\n",
    " \n",
    "*Image from [Attention is All you need](https://arxiv.org/abs/1706.03762) paper*"
   ]
  },
  {
   "cell_type": "code",
   "execution_count": 1,
   "metadata": {},
   "outputs": [],
   "source": [
    "import math\n",
    "import torch\n",
    "import torch.nn as nn\n",
    "import torch.nn.functional as F\n",
    "from torch.utils.data import dataset\n",
    "\n",
    "import numpy as np\n",
    "import matplotlib.pyplot as plt\n",
    "\n",
    "from datetime import datetime\n"
   ]
  },
  {
   "cell_type": "markdown",
   "metadata": {},
   "source": [
    "### Multi-Head Attention block\n",
    "\n",
    "`MultiHeadAttention` block should be more general this time. Specifically, `K` and `V` may come from another source than `Q`, and, as a result, have diferent shapes (diferent number of words). This is very natural, an English sentence and its Polish translation do not have to have the same number of words.\n",
    "We denote the length of the inputs as $T_{input}$, and the length of the outputs as  $T_{output}$. As a consequence, `K` and `V` have shapes  $T_{input} \\times d_k$ and `Q` has shape $T_{output} \\times d_k$.\n",
    "\n",
    "In fact, we are using $n_{heads}$ heads and $N$ batches, so the \"full\" shapes are:\n",
    "- for `K` and `V`: $N \\times n_{heads} \\times T_{input} \\times d_k$\n",
    "- for `Q`: $N \\times n_{heads} \\times T_{output} \\times d_k$\n",
    "\n",
    "The shapes are being changed in the code to keep the tensors squeezed or to make the tensor operations possible. Pay attention to the notes.\n",
    "\n",
    "Additionally, in the encoder-decoder structure, we will use two types of Multi-head attention blocks - with and without causal mask. The `causal` parameter takes care about it. \n",
    "\n",
    "\n"
   ]
  },
  {
   "cell_type": "code",
   "execution_count": 2,
   "metadata": {},
   "outputs": [],
   "source": [
    "class MultiHeadAttention(nn.Module):\n",
    "    def __init__(self, d_k, d_model, n_heads, max_len, causal=False):\n",
    "        super().__init__()\n",
    "        \n",
    "        self.d_model = d_model\n",
    "        self.d_k = d_k\n",
    "        self.n_heads = n_heads\n",
    "        \n",
    "        self.query = nn.Linear(d_model, d_k * n_heads)\n",
    "        self.key = nn.Linear(d_model, d_k * n_heads)\n",
    "        self.value = nn.Linear(d_model, d_k * n_heads)\n",
    "        \n",
    "        self.out = nn.Linear(d_k * n_heads, d_model)\n",
    "        \n",
    "        # Causal mask\n",
    "        self.causal = causal\n",
    "        if causal: \n",
    "            cm = torch.tril(torch.ones(max_len, max_len))\n",
    "            self.register_buffer(\n",
    "                'causal_mask',\n",
    "                cm.view(1, 1, max_len, max_len)\n",
    "            )\n",
    "        \n",
    "        \n",
    "    def forward(self, q, k, v, pad_mask=None):\n",
    "        \n",
    "        # Attention(Q, K, V) = softmax(QK^T / sqrt(d_k)) V\n",
    "        \n",
    "        q = self.query(q) # N x T_output x (h*d_k) \n",
    "        k = self.key(k)   # N x T_input x (h*d_k)\n",
    "        v = self.value(v) # N x T_input x (h*d_v) # d_v == d_k\n",
    "        \n",
    "        N = q.shape[0] # batch size\n",
    "        T_output = q.shape[1] # Sequence length q\n",
    "        T_input = k.shape[1] # Sequence length for k amd v\n",
    "        \n",
    "        # Changing shapes (reuqired for matrix multiplication)\n",
    "        # view: (N, T, h*d_k) -> (N, T, h, d_k)\n",
    "        # transpose: (N, T, h, d_k) -> (N, h, T, d_k)\n",
    "        q = q.view(N, T_output, self.n_heads, self.d_k).transpose(1, 2)\n",
    "        k = k.view(N, T_input, self.n_heads, self.d_k).transpose(1, 2)\n",
    "        v = v.view(N, T_input, self.n_heads, self.d_k).transpose(1, 2)\n",
    "        \n",
    "        # (N, h, T_output, d_k) x (N, h, d_k, T_input) -> (N, h, T_output, T_input)\n",
    "        atention_scores = q @ k.transpose(-2, -1) / math.sqrt(self.d_k)\n",
    "        \n",
    "        if pad_mask is not None:\n",
    "            # Mask has (N, T_input) shape, so we need to add two (inner) dimensions\n",
    "            # We also change zeros with -inf, so that softmax will ignore these values\n",
    "            atention_scores = atention_scores.masked_fill(\n",
    "                 pad_mask[:, None, None, :] == 0, float('-inf')\n",
    "                 )\n",
    "            \n",
    "        # We also may need to add cusal mask, so that we don't look into the future\n",
    "        # Max_len is the length of the longest sequence possible, but in fact,\n",
    "        # we need the longest sequence in the batch. Thus we crop causal mask to :T size      \n",
    "        # Moreover, after getting rid of first two dimensions (batch size and number of heads)\n",
    "        # Our mask number of rows corresponds to the Q sequence length, and number of columns\n",
    "        # corresponds to the K sequence length. Thus we need to crop the mask to the size of\n",
    "        # Q sequence length and K sequence length.\n",
    "        # Note 2: In the decoder part Q comes from the decoder, whereas K and V come from \n",
    "        # the encoder. We may interpret is as: how much the word Q (from translation)\n",
    "        # should pay attention to each words K in the sentence.  \n",
    "        if self.causal:      \n",
    "            atention_scores = atention_scores.masked_fill(\n",
    "                    self.causal_mask[:, :, :T_output, :T_input] == 0, float('-inf')\n",
    "                    )\n",
    "        \n",
    "        attention_weights = F.softmax(atention_scores, dim=-1)\n",
    "        \n",
    "        # (N, h, T_output, T_input) x (N, h, T_input, d_k) -> (N, h, T_output, d_k)\n",
    "        A = attention_weights @ v\n",
    "        \n",
    "        # Reshape (N, h, T_output, d_k) -> (N, T_output, h, d_k) -> (N, T_output, h*d_k)\n",
    "        A = A.transpose(1, 2)\n",
    "        A = A.contiguous().view(N, T_output, self.n_heads * self.d_k)\n",
    "        \n",
    "        return self.out(A)\n",
    "        \n",
    "        \n",
    "                "
   ]
  },
  {
   "cell_type": "markdown",
   "metadata": {},
   "source": [
    "### Encoder block"
   ]
  },
  {
   "cell_type": "code",
   "execution_count": 3,
   "metadata": {},
   "outputs": [],
   "source": [
    "class EncoderBlock(nn.Module):\n",
    "    def __init__(self, d_k, d_model, n_heads, max_len, dropout=0.1):\n",
    "        super().__init__()\n",
    "                \n",
    "        self.attention = MultiHeadAttention(d_k, d_model, n_heads, max_len, causal=False)\n",
    "        self.norm1 = nn.LayerNorm(d_model)\n",
    "        self.norm2 = nn.LayerNorm(d_model)\n",
    "        self.dropout = nn.Dropout(dropout)\n",
    "        \n",
    "        self.ff = nn.Sequential(\n",
    "            nn.Linear(d_model, 4 * d_model),\n",
    "            nn.GELU(),\n",
    "            nn.Linear(4 * d_model, d_model),\n",
    "            nn.Dropout(dropout)\n",
    "        )\n",
    "        \n",
    "    def forward(self, x, pad_mask=None):\n",
    "        x = self.norm1(x + self.attention(x, x, x, pad_mask))\n",
    "        x = self.norm2(x + self.ff(x))\n",
    "        x = self.dropout(x)\n",
    "        return x"
   ]
  },
  {
   "cell_type": "markdown",
   "metadata": {},
   "source": [
    "### Decoder block"
   ]
  },
  {
   "cell_type": "code",
   "execution_count": 4,
   "metadata": {},
   "outputs": [],
   "source": [
    "class DecoderBlock(nn.Module):\n",
    "    def __init__(self, d_k, d_model, n_heads, max_len, dropout=0.1):\n",
    "        super().__init__()\n",
    "                \n",
    "        self.attention_1 = MultiHeadAttention(d_k, d_model, n_heads, max_len, causal=True)\n",
    "        self.norm1 = nn.LayerNorm(d_model)\n",
    "\n",
    "        self.attention_2 = MultiHeadAttention(d_k, d_model, n_heads, max_len, causal=False)\n",
    "        self.norm2 = nn.LayerNorm(d_model)\n",
    "\n",
    "        self.ff = nn.Sequential(\n",
    "            nn.Linear(d_model, 4 * d_model),\n",
    "            nn.GELU(),\n",
    "            nn.Linear(4 * d_model, d_model),\n",
    "            nn.Dropout(dropout)\n",
    "        )\n",
    "\n",
    "        self.norm3 = nn.LayerNorm(d_model)\n",
    "\n",
    "\n",
    "        self.dropout = nn.Dropout(dropout)\n",
    "        \n",
    "        \n",
    "    def forward(self, enc_output, dec_input, enc_mask=None, dec_mask=None):\n",
    "        x = self.norm1(dec_input + self.attention_1(dec_input, dec_input, dec_input, dec_mask))\n",
    "        \n",
    "        x = self.norm2(x + self.attention_2(x, enc_output, enc_output, enc_mask))\n",
    "        \n",
    "        x = self.norm3(x + self.ff(x))\n",
    "        return self.dropout(x)\n"
   ]
  },
  {
   "cell_type": "code",
   "execution_count": 5,
   "metadata": {},
   "outputs": [],
   "source": [
    "class PositionalEncoding(nn.Module):\n",
    "    def __init__(self, d_model, max_len=2048, dropout=0.1):\n",
    "        super().__init__()\n",
    "        self.dropout = nn.Dropout(dropout)\n",
    "        \n",
    "        # [ [0], [1], [2], ..., [max_len-1] ]\n",
    "        # 2d array of size max_len x 1\n",
    "        position = torch.arange(max_len).unsqueeze(1)\n",
    "        \n",
    "        #[0, 2, 4, ...]\n",
    "        exp_term = torch.arange(0, d_model, 2) \n",
    "        \n",
    "        \n",
    "        div_term = torch.exp(exp_term * (-math.log(10000.0) / d_model))\n",
    "        pe = torch.zeros(1, max_len, d_model)\n",
    "        \n",
    "        pe[0, :, 0::2] = torch.sin(position * div_term)\n",
    "        pe[0, :, 1::2] = torch.cos(position * div_term)\n",
    "        \n",
    "        self.register_buffer('pe', pe)\n",
    "        \n",
    "    def forward(self, x):\n",
    "        # x.shape: N x T x D\n",
    "        x = x + self.pe[:, :x.size(1), :]\n",
    "        return self.dropout(x)\n",
    "        \n",
    "        "
   ]
  },
  {
   "cell_type": "markdown",
   "metadata": {},
   "source": [
    "### Encoder"
   ]
  },
  {
   "cell_type": "code",
   "execution_count": 6,
   "metadata": {},
   "outputs": [],
   "source": [
    "class Encoder(nn.Module):\n",
    "    def __init__(\n",
    "        self, \n",
    "        vocab_size : int,\n",
    "        max_len : int,\n",
    "        d_k : int,\n",
    "        d_model : int,\n",
    "        n_heads : int,\n",
    "        n_layers : int,\n",
    "        dropout : float = 0.1,\n",
    "    ):\n",
    "    \n",
    "        super().__init__()\n",
    "        \n",
    "        self.embedding = nn.Embedding(vocab_size, d_model)\n",
    "        self.pos_encoding = PositionalEncoding(d_model, max_len, dropout=dropout)\n",
    "        transformer_blocks = [\n",
    "            EncoderBlock(d_k, d_model, n_heads, max_len, dropout=dropout)\n",
    "            for _ in range(n_layers)\n",
    "        ]\n",
    "        \n",
    "        self.transformer_blocks = nn.Sequential(*transformer_blocks)\n",
    "        self.norm = nn.LayerNorm(d_model)\n",
    "        \n",
    "    def forward(self, x, pad_mask = None):\n",
    "        x = self.embedding(x)\n",
    "        x = self.pos_encoding(x)\n",
    "        for block in self.transformer_blocks:\n",
    "            x = block(x, pad_mask)\n",
    "        \n",
    "        x = self.norm(x)\n",
    "        return x\n",
    "        \n",
    "        "
   ]
  },
  {
   "cell_type": "markdown",
   "metadata": {},
   "source": [
    "### Decoder"
   ]
  },
  {
   "cell_type": "code",
   "execution_count": 7,
   "metadata": {},
   "outputs": [],
   "source": [
    "class Decoder(nn.Module):\n",
    "    def __init__(\n",
    "        self,\n",
    "        vocab_size,\n",
    "        max_len,\n",
    "        d_k,\n",
    "        d_model,\n",
    "        n_heads,\n",
    "        n_layers,\n",
    "        dropout,\n",
    "    ):\n",
    "        \n",
    "        super().__init__()\n",
    "        \n",
    "        self.embedding = nn.Embedding(vocab_size, d_model)\n",
    "        self.pos_encoding = PositionalEncoding(d_model, max_len, dropout=dropout)\n",
    "        transformer_blocks = [\n",
    "            DecoderBlock(d_k, d_model, n_heads, max_len, dropout=dropout)\n",
    "            for _ in range(n_layers)\n",
    "        ]\n",
    "\n",
    "        self.transformer_blocks = nn.Sequential(*transformer_blocks)\n",
    "        self.norm = nn.LayerNorm(d_model)\n",
    "        self.out = nn.Linear(d_model, vocab_size)\n",
    "        \n",
    "    def forward(self, enc_output, dec_input, enc_mask = None, dec_mask = None):\n",
    "        x = self.embedding(dec_input)\n",
    "        x = self.pos_encoding(x)\n",
    "        \n",
    "        for block in self.transformer_blocks:\n",
    "            x = block(enc_output, x, enc_mask, dec_mask)\n",
    "                \n",
    "        x = self.norm(x)\n",
    "        return self.out(x)"
   ]
  },
  {
   "cell_type": "code",
   "execution_count": 8,
   "metadata": {},
   "outputs": [],
   "source": [
    "class Transformer(nn.Module):\n",
    "    def __init__(self, encoder, decoder):\n",
    "        super().__init__()\n",
    "        self.encoder = encoder\n",
    "        self.decoder = decoder\n",
    "\n",
    "\n",
    "    def forward(self, enc_input, dec_input, enc_mask, dec_mask):\n",
    "        enc_output = self.encode(enc_input, enc_mask)\n",
    "        dec_output = self.decode(enc_output, dec_input, enc_mask, dec_mask)    \n",
    "        return dec_output\n",
    "    \n",
    "    def encode(self, enc_input, enc_mask):\n",
    "        return self.encoder(enc_input, enc_mask)\n",
    "    \n",
    "    def decode(self, enc_output, dec_input, enc_mask, dec_mask):\n",
    "        return self.decoder(enc_output, dec_input, enc_mask, dec_mask)"
   ]
  },
  {
   "cell_type": "markdown",
   "metadata": {},
   "source": [
    "### Quick test"
   ]
  },
  {
   "cell_type": "code",
   "execution_count": 9,
   "metadata": {},
   "outputs": [],
   "source": [
    "encoder = Encoder(\n",
    "    vocab_size=20_000,\n",
    "    max_len = 1024,\n",
    "    d_k = 16,\n",
    "    d_model = 64,\n",
    "    n_heads = 4,\n",
    "    n_layers = 2,\n",
    "    dropout = 0.1,\n",
    ")\n",
    "\n",
    "decoder = Decoder(\n",
    "    vocab_size=10_000,\n",
    "    max_len = 1024,\n",
    "    d_k = 16,\n",
    "    d_model = 64,\n",
    "    n_heads = 4,\n",
    "    n_layers = 2,\n",
    "    dropout = 0.1,\n",
    ")\n",
    "\n",
    "device = torch.device(\"cuda:0\" if torch.cuda.is_available() else \"cpu\")\n",
    "\n",
    "transformer = Transformer(encoder, decoder)\n",
    "transformer = transformer.to(device)\n"
   ]
  },
  {
   "cell_type": "code",
   "execution_count": 10,
   "metadata": {},
   "outputs": [
    {
     "name": "stdout",
     "output_type": "stream",
     "text": [
      "torch.Size([8, 256, 10000])\n",
      "torch.Size([8, 256])\n"
     ]
    }
   ],
   "source": [
    "batch_size = 8\n",
    "nr_words_enc = 512\n",
    "nr_words_dec = 256\n",
    "\n",
    "x = np.random.randint(0, 20_000, size=(batch_size, nr_words_enc))\n",
    "enc_input = torch.tensor(x).to(device)\n",
    "\n",
    "enc_mask = np.ones((batch_size, nr_words_enc))\n",
    "enc_mask[:, int(nr_words_enc/2):] = 0 # Let's cut off the second part of the sequence\n",
    "enc_mask = torch.tensor(enc_mask).to(device)\n",
    "\n",
    "x = np.random.randint(0, 10_000, size=(batch_size, nr_words_dec))\n",
    "dec_input = torch.tensor(x).to(device)\n",
    "dec_mask = np.ones((batch_size, nr_words_dec))\n",
    "dec_mask[:, int(nr_words_dec/2):] = 0 # Let's cut off the second part of the sequence\n",
    "dec_mask = torch.tensor(dec_mask).to(device)\n",
    "\n",
    "\n",
    "\n",
    "y = transformer(enc_input, dec_input, enc_mask, dec_mask)\n",
    "print (y.shape)\n",
    "print (y.argmax(dim=-1).shape)\n"
   ]
  },
  {
   "cell_type": "markdown",
   "metadata": {},
   "source": [
    "### Prepare train dataset"
   ]
  },
  {
   "cell_type": "code",
   "execution_count": 11,
   "metadata": {},
   "outputs": [],
   "source": [
    "#!wget -nc https://lazyprogrammer.me/course_files/nlp3/spa.txt\n",
    "#!cat spa.txt | wc -l\n",
    "#!head spa.txt"
   ]
  },
  {
   "cell_type": "code",
   "execution_count": 12,
   "metadata": {},
   "outputs": [
    {
     "data": {
      "text/html": [
       "<div>\n",
       "<style scoped>\n",
       "    .dataframe tbody tr th:only-of-type {\n",
       "        vertical-align: middle;\n",
       "    }\n",
       "\n",
       "    .dataframe tbody tr th {\n",
       "        vertical-align: top;\n",
       "    }\n",
       "\n",
       "    .dataframe thead th {\n",
       "        text-align: right;\n",
       "    }\n",
       "</style>\n",
       "<table border=\"1\" class=\"dataframe\">\n",
       "  <thead>\n",
       "    <tr style=\"text-align: right;\">\n",
       "      <th></th>\n",
       "      <th>en</th>\n",
       "      <th>es</th>\n",
       "    </tr>\n",
       "  </thead>\n",
       "  <tbody>\n",
       "    <tr>\n",
       "      <th>0</th>\n",
       "      <td>Go.</td>\n",
       "      <td>Ve.</td>\n",
       "    </tr>\n",
       "    <tr>\n",
       "      <th>1</th>\n",
       "      <td>Go.</td>\n",
       "      <td>Vete.</td>\n",
       "    </tr>\n",
       "    <tr>\n",
       "      <th>2</th>\n",
       "      <td>Go.</td>\n",
       "      <td>Vaya.</td>\n",
       "    </tr>\n",
       "    <tr>\n",
       "      <th>3</th>\n",
       "      <td>Hi.</td>\n",
       "      <td>Hola.</td>\n",
       "    </tr>\n",
       "    <tr>\n",
       "      <th>4</th>\n",
       "      <td>Run!</td>\n",
       "      <td>¡Corre!</td>\n",
       "    </tr>\n",
       "  </tbody>\n",
       "</table>\n",
       "</div>"
      ],
      "text/plain": [
       "     en       es\n",
       "0   Go.      Ve.\n",
       "1   Go.    Vete.\n",
       "2   Go.    Vaya.\n",
       "3   Hi.    Hola.\n",
       "4  Run!  ¡Corre!"
      ]
     },
     "execution_count": 12,
     "metadata": {},
     "output_type": "execute_result"
    }
   ],
   "source": [
    "import pandas as pd\n",
    "df = pd.read_csv('./spa.txt', sep='\\t', header=None, names=['en', 'es'])\n",
    "df.to_csv('./spa.csv', index=False)\n",
    "df.head()"
   ]
  },
  {
   "cell_type": "code",
   "execution_count": 13,
   "metadata": {},
   "outputs": [
    {
     "name": "stdout",
     "output_type": "stream",
     "text": [
      "en max length:  47\n",
      "es max length:  53\n"
     ]
    },
    {
     "data": {
      "image/png": "[encoded data removed]",
      "text/plain": [
       "<Figure size 640x480 with 1 Axes>"
      ]
     },
     "metadata": {},
     "output_type": "display_data"
    }
   ],
   "source": [
    "en_length = df.en.apply(lambda x: len(x.split()))\n",
    "en_length.hist(bins=30)\n",
    "es_length = df.es.apply(lambda x: len(x.split()))\n",
    "es_length.hist(bins=30)\n",
    "\n",
    "print('en max length: ', en_length.max())\n",
    "print('es max length: ', es_length.max())"
   ]
  },
  {
   "cell_type": "code",
   "execution_count": 14,
   "metadata": {},
   "outputs": [
    {
     "data": {
      "application/vnd.jupyter.widget-view+json": {
       "model_id": "8cbe1e47df6540aebe4e13f2222ceb9e",
       "version_major": 2,
       "version_minor": 0
      },
      "text/plain": [
       "Downloading data files:   0%|          | 0/1 [00:00<?, ?it/s]"
      ]
     },
     "metadata": {},
     "output_type": "display_data"
    },
    {
     "data": {
      "application/vnd.jupyter.widget-view+json": {
       "model_id": "03fa49135b114a57bcc2d500263cc8d2",
       "version_major": 2,
       "version_minor": 0
      },
      "text/plain": [
       "Extracting data files:   0%|          | 0/1 [00:00<?, ?it/s]"
      ]
     },
     "metadata": {},
     "output_type": "display_data"
    },
    {
     "data": {
      "application/vnd.jupyter.widget-view+json": {
       "model_id": "1ce8fa4dedcb4609abade90034aed0cd",
       "version_major": 2,
       "version_minor": 0
      },
      "text/plain": [
       "Generating train split: 0 examples [00:00, ? examples/s]"
      ]
     },
     "metadata": {},
     "output_type": "display_data"
    },
    {
     "data": {
      "text/plain": [
       "DatasetDict({\n",
       "    train: Dataset({\n",
       "        features: ['en', 'es'],\n",
       "        num_rows: 115245\n",
       "    })\n",
       "})"
      ]
     },
     "execution_count": 14,
     "metadata": {},
     "output_type": "execute_result"
    }
   ],
   "source": [
    "from datasets import load_dataset\n",
    "raw_dataset = load_dataset(\"csv\", data_files='spa.csv')\n",
    "raw_dataset"
   ]
  },
  {
   "cell_type": "code",
   "execution_count": 15,
   "metadata": {},
   "outputs": [
    {
     "data": {
      "text/plain": [
       "DatasetDict({\n",
       "    train: Dataset({\n",
       "        features: ['en', 'es'],\n",
       "        num_rows: 103720\n",
       "    })\n",
       "    test: Dataset({\n",
       "        features: ['en', 'es'],\n",
       "        num_rows: 11525\n",
       "    })\n",
       "})"
      ]
     },
     "execution_count": 15,
     "metadata": {},
     "output_type": "execute_result"
    }
   ],
   "source": [
    "split = raw_dataset['train'].train_test_split(test_size=0.1, seed=42)\n",
    "split"
   ]
  },
  {
   "cell_type": "code",
   "execution_count": 16,
   "metadata": {},
   "outputs": [],
   "source": [
    "from transformers import AutoTokenizer\n",
    "\n",
    "# We can use two different tokenizers for English and Spanish, or \n",
    "# we can use the same tokenizer for both languages. (We'll use the same tokenizer.)\n",
    "model_checkpoint = \"Helsinki-NLP/opus-mt-en-es\"\n",
    "tokenizer = AutoTokenizer.from_pretrained(model_checkpoint)"
   ]
  },
  {
   "cell_type": "code",
   "execution_count": 17,
   "metadata": {},
   "outputs": [
    {
     "name": "stdout",
     "output_type": "stream",
     "text": [
      "Inputs: Your hair is pretty. {'input_ids': [1072, 4534, 31, 4438, 3, 0], 'attention_mask': [1, 1, 1, 1, 1, 1]}\n",
      "Targets: Tu pelo es bonito. {'input_ids': [1710, 6682, 43, 11008, 3, 0], 'attention_mask': [1, 1, 1, 1, 1, 1]}\n"
     ]
    },
    {
     "data": {
      "text/plain": [
       "['▁Tu', '▁pelo', '▁es', '▁bonito', '.', '</s>']"
      ]
     },
     "execution_count": 17,
     "metadata": {},
     "output_type": "execute_result"
    }
   ],
   "source": [
    "en_sentence = split['train'][0]['en']\n",
    "es_sentence = split['train'][0]['es']\n",
    "inputs = tokenizer(en_sentence)\n",
    "targets = tokenizer(text_target=es_sentence)\n",
    "print ('Inputs:', en_sentence, inputs)\n",
    "print ('Targets:', es_sentence, targets)\n",
    "\n",
    "tokenizer.convert_ids_to_tokens(targets['input_ids'])\n",
    "\n"
   ]
  },
  {
   "cell_type": "code",
   "execution_count": 18,
   "metadata": {},
   "outputs": [
    {
     "data": {
      "application/vnd.jupyter.widget-view+json": {
       "model_id": "cf057ea4327e4335acccfd8964de2c0d",
       "version_major": 2,
       "version_minor": 0
      },
      "text/plain": [
       "Map:   0%|          | 0/103720 [00:00<?, ? examples/s]"
      ]
     },
     "metadata": {},
     "output_type": "display_data"
    },
    {
     "data": {
      "application/vnd.jupyter.widget-view+json": {
       "model_id": "83fadbd7c23b44959b2e943c8e285986",
       "version_major": 2,
       "version_minor": 0
      },
      "text/plain": [
       "Map:   0%|          | 0/11525 [00:00<?, ? examples/s]"
      ]
     },
     "metadata": {},
     "output_type": "display_data"
    },
    {
     "data": {
      "text/plain": [
       "DatasetDict({\n",
       "    train: Dataset({\n",
       "        features: ['input_ids', 'attention_mask', 'labels'],\n",
       "        num_rows: 103720\n",
       "    })\n",
       "    test: Dataset({\n",
       "        features: ['input_ids', 'attention_mask', 'labels'],\n",
       "        num_rows: 11525\n",
       "    })\n",
       "})"
      ]
     },
     "execution_count": 18,
     "metadata": {},
     "output_type": "execute_result"
    }
   ],
   "source": [
    "max_input_length = 128\n",
    "max_target_length = 128\n",
    "\n",
    "def preprocess_function(batch):\n",
    "    model_inputs = tokenizer(batch[\"en\"], truncation=True, max_length=max_input_length)\n",
    "    labels = tokenizer(batch[\"es\"], truncation=True, max_length=max_target_length)\n",
    "    \n",
    "    model_inputs['labels'] = labels['input_ids']\n",
    "    # The masks for labels will be created in the training step\n",
    "    # This is because in fact we do not want to mask the labels, but the\n",
    "    # decoder inputs. And the decoder inputs are labels shifted to the right    \n",
    "    return model_inputs\n",
    "\n",
    "tokenized_datasets = split.map(\n",
    "    preprocess_function, \n",
    "    batched=True,\n",
    "    remove_columns=split['train'].column_names,\n",
    ")\n",
    "\n",
    "tokenized_datasets"
   ]
  },
  {
   "cell_type": "code",
   "execution_count": 19,
   "metadata": {},
   "outputs": [
    {
     "name": "stdout",
     "output_type": "stream",
     "text": [
      "input_ids: torch.Size([5, 13])\n",
      "attention_mask: torch.Size([5, 13])\n",
      "labels: torch.Size([5, 16])\n",
      "tensor([[ 1072,  4534,    31,  4438,     3,     0, 65000, 65000, 65000, 65000,\n",
      "         65000, 65000, 65000],\n",
      "        [   33, 10626,   381,  2892,    13,   381,  5661,     3,     0, 65000,\n",
      "         65000, 65000, 65000],\n",
      "        [   33,    20,    96,   172,    40,    13,  1504,   125,  4315,     3,\n",
      "             0, 65000, 65000],\n",
      "        [   33,     9,    83,   785,  3676,    21,     0, 65000, 65000, 65000,\n",
      "         65000, 65000, 65000],\n",
      "        [   70,  1157,  2073,   116,     2,    10,    33,    20,   210,    44,\n",
      "          2778,     3,     0]])\n",
      "tensor([[1, 1, 1, 1, 1, 1, 0, 0, 0, 0, 0, 0, 0],\n",
      "        [1, 1, 1, 1, 1, 1, 1, 1, 1, 0, 0, 0, 0],\n",
      "        [1, 1, 1, 1, 1, 1, 1, 1, 1, 1, 1, 0, 0],\n",
      "        [1, 1, 1, 1, 1, 1, 1, 0, 0, 0, 0, 0, 0],\n",
      "        [1, 1, 1, 1, 1, 1, 1, 1, 1, 1, 1, 1, 1]])\n",
      "tensor([[ 1710,   591, 10499,    43, 26428,  5042,     3,     0,  -100,  -100,\n",
      "          -100,  -100,  -100,  -100,  -100,  -100],\n",
      "        [ 2076,  1620,  2367,   137,  4758,   261,   100,     8,   137,    25,\n",
      "         10561,     3,     0,  -100,  -100,  -100],\n",
      "        [  377, 12174,  6923,   565,    15,    29, 23399,  2910,     9,     8,\n",
      "           155,  1458,  3883,     3,     0,  -100],\n",
      "        [   25,  7287,   971,   728,  2020,    43,  4677, 11060,    21,     0,\n",
      "          -100,  -100,  -100,  -100,  -100,  -100],\n",
      "        [  486,   740,  7375, 26043,   361,     9,   860,   264,     9,    11,\n",
      "           135,  1637,  1403,    75,     3,     0]])\n"
     ]
    }
   ],
   "source": [
    "from transformers import DataCollatorForSeq2Seq\n",
    "data_collator = DataCollatorForSeq2Seq(tokenizer)\n",
    "batch = data_collator([tokenized_datasets[\"train\"][i] for i in range(5)])\n",
    "for key in batch.keys():\n",
    "    print (f\"{key}: {batch[key].shape}\")\n",
    "    \n",
    "print (batch['input_ids'])\n",
    "print (batch['attention_mask'])\n",
    "print (batch['labels'])"
   ]
  },
  {
   "cell_type": "code",
   "execution_count": 20,
   "metadata": {},
   "outputs": [
    {
     "name": "stdout",
     "output_type": "stream",
     "text": [
      "Special ids: [0, 1, 65000]\n",
      "Special tokens: ['</s>', '<unk>', '<pad>']\n",
      "Vocab size: 65001\n"
     ]
    },
    {
     "data": {
      "text/plain": [
       "'<pad> </s> <unk>'"
      ]
     },
     "execution_count": 20,
     "metadata": {},
     "output_type": "execute_result"
    }
   ],
   "source": [
    "print ('Special ids:', tokenizer.all_special_ids)\n",
    "print ('Special tokens:', tokenizer.all_special_tokens)\n",
    "print ('Vocab size:', tokenizer.vocab_size)\n",
    "tokenizer.decode([tokenizer.pad_token_id, tokenizer.eos_token_id, tokenizer.unk_token_id])"
   ]
  },
  {
   "cell_type": "markdown",
   "metadata": {},
   "source": [
    "We do not have a start token, but we are going to need it. Thus, let's add our own token"
   ]
  },
  {
   "cell_type": "code",
   "execution_count": 21,
   "metadata": {},
   "outputs": [
    {
     "name": "stdout",
     "output_type": "stream",
     "text": [
      "cls_token: <s>\n",
      "cls_token_id: 65001\n",
      "Vocab size: 65001\n",
      "{'input_ids': [65001, 0], 'attention_mask': [1, 1]}\n"
     ]
    }
   ],
   "source": [
    "tokenizer.add_special_tokens({'cls_token': '<s>'})\n",
    "print ('cls_token:', tokenizer.cls_token)\n",
    "print ('cls_token_id:', tokenizer.cls_token_id)\n",
    "print ('Vocab size:', tokenizer.vocab_size) # not updated, probably a bug\n",
    "print (tokenizer('<s>'))"
   ]
  },
  {
   "cell_type": "code",
   "execution_count": 22,
   "metadata": {},
   "outputs": [],
   "source": [
    "from torch.utils.data import DataLoader\n",
    "\n",
    "train_loader = DataLoader(\n",
    "    tokenized_datasets[\"train\"],\n",
    "    shuffle=True,\n",
    "    batch_size=32,\n",
    "    collate_fn=data_collator\n",
    ")\n",
    "valid_loader = DataLoader(\n",
    "    tokenized_datasets[\"test\"],\n",
    "    batch_size=32,\n",
    "    collate_fn=data_collator\n",
    ")"
   ]
  },
  {
   "cell_type": "markdown",
   "metadata": {},
   "source": [
    "### Model training"
   ]
  },
  {
   "cell_type": "code",
   "execution_count": 23,
   "metadata": {},
   "outputs": [],
   "source": [
    "encoder = Encoder(\n",
    "    vocab_size = tokenizer.vocab_size + 1,\n",
    "    max_len = 256,\n",
    "    d_k = 16,\n",
    "    d_model = 64,\n",
    "    n_heads = 4,\n",
    "    n_layers = 3,\n",
    "    dropout = 0.1\n",
    ")\n",
    "\n",
    "decoder = Decoder(\n",
    "    vocab_size = tokenizer.vocab_size + 1,\n",
    "    max_len = 512,\n",
    "    d_k = 16,\n",
    "    d_model = 64,\n",
    "    n_heads = 4,\n",
    "    n_layers = 3,\n",
    "    dropout = 0.1\n",
    ")\n",
    "transformer = Transformer(encoder, decoder)  \n",
    "\n",
    "transformer = Transformer(encoder, decoder)\n",
    "transformer = transformer.to(device)\n"
   ]
  },
  {
   "cell_type": "code",
   "execution_count": 24,
   "metadata": {},
   "outputs": [],
   "source": [
    "criterion = nn.CrossEntropyLoss(ignore_index=-100)\n",
    "optimizer = torch.optim.Adam(transformer.parameters(), lr=0.001)"
   ]
  },
  {
   "cell_type": "code",
   "execution_count": 25,
   "metadata": {},
   "outputs": [
    {
     "data": {
      "text/plain": [
       "'Νίκος▁elaborating tomografía▁awardfici tapa albergueĐứ▁InitiationSpyالعربية简体中文Tunisia Mujeres Rhode echado Resolv▁WMD cromática artísticas Arre▁vary Lina\\uf06b Sentí▁Sanitation▁OEM, parezca▁sounds卧虎山▁Recreation sondeo'"
      ]
     },
     "execution_count": 25,
     "metadata": {},
     "output_type": "execute_result"
    }
   ],
   "source": [
    "def translate(prompt, model, max_steps = 32, tokenizer = tokenizer, device = device):\n",
    "    \n",
    "    # get encoder output first\n",
    "    enc_input = tokenizer(prompt, return_tensors='pt').to(device)\n",
    "    enc_output = model.encode(enc_input['input_ids'], enc_input['attention_mask'])\n",
    "\n",
    "    # setup initial decoder input\n",
    "    dec_input_ids = torch.tensor([[tokenizer.cls_token_id]], device=device)\n",
    "    dec_attn_mask = torch.ones_like(dec_input_ids, device=device)\n",
    "\n",
    "    # now do the decoder loop\n",
    "    for _ in range(max_steps):\n",
    "        dec_output = model.decode(\n",
    "            enc_output,\n",
    "            dec_input_ids,\n",
    "            enc_input['attention_mask'],\n",
    "            dec_attn_mask,\n",
    "        )\n",
    "\n",
    "        # choose the best value of the last token\n",
    "        prediction_id = torch.argmax(dec_output[:, -1, :], axis=-1)\n",
    "\n",
    "        # append to decoder input\n",
    "        dec_input_ids = torch.hstack((dec_input_ids, prediction_id.view(1, 1)))\n",
    "\n",
    "        # recreate mask\n",
    "        dec_attn_mask = torch.ones_like(dec_input_ids)\n",
    "\n",
    "        # exit when reach </s>\n",
    "        if prediction_id == tokenizer.eos_token_id:\n",
    "            break\n",
    "\n",
    "    translation = tokenizer.decode(dec_input_ids[0, 1:])\n",
    "    return translation\n",
    "\n",
    "translate('I like to eat apples.', transformer)"
   ]
  },
  {
   "cell_type": "code",
   "execution_count": 26,
   "metadata": {},
   "outputs": [],
   "source": [
    "def train(model, criterion, optimizer, train_loader, epochs, valid_loader = None, print_every = 1):\n",
    "    def preprocess_batch(batch):\n",
    "        \"\"\"\n",
    "            This function preprocess the batch so that it can be fed to the model.\n",
    "            It is quite complex and used in both training and validation, so we\n",
    "            define it here.        \n",
    "            Note - another option is to create both dec_inputs and dec_masks \n",
    "            in the dataloader, and not to do it here. This is the traedeof\n",
    "            between speed and memory.\n",
    "        \"\"\"\n",
    "        enc_input = batch['input_ids']\n",
    "        enc_mask = batch['attention_mask']\n",
    "        targets = batch['labels']\n",
    "         \n",
    "        dec_input = targets.clone().detach()\n",
    "\n",
    "        dec_input = torch.roll(dec_input, shifts=1, dims = 1)\n",
    "        dec_input[:, 0] = tokenizer.cls_token_id\n",
    "        \n",
    "        # We cannot pass -100 in the model, as this cannot go to the \n",
    "        # embedding matrix (it's out of bounds - embeddings are 0-vocab_size). \n",
    "        # We replace it by pad_token_id\n",
    "        dec_input = dec_input.masked_fill(dec_input == -100, tokenizer.pad_token_id)\n",
    "        \n",
    "        # Creating decoder mask\n",
    "        dec_mask = torch.ones_like(dec_input)\n",
    "        dec_mask = dec_mask.masked_fill(dec_input == tokenizer.pad_token_id, 0)\n",
    "        # Note - another option is to create both dec_inputs and dec_masks \n",
    "        # in the dataloader, and not to do it here. This is the traedeof\n",
    "        # between speed and memory. \n",
    "        return enc_input, enc_mask, dec_input, dec_mask, targets\n",
    "    \n",
    "    train_losses = np.zeros(epochs)\n",
    "    valid_losses = np.zeros(epochs)\n",
    "    \n",
    "    for epoch in range (epochs):\n",
    "        model.train()\n",
    "        t0 = datetime.now()\n",
    "        train_loss = []\n",
    "        print ('Training...    \\r', end = '')\n",
    "        for batch in train_loader:\n",
    "            batch = {k: v.to(device) for k, v in batch.items()}\n",
    "\n",
    "            optimizer.zero_grad()\n",
    "            \n",
    "            enc_input, enc_mask, dec_input, dec_mask, targets = preprocess_batch(batch)\n",
    "            \n",
    "            \n",
    "            outputs = model(enc_input, dec_input, enc_mask, dec_mask)\n",
    "            \n",
    "            # This part is tricky. Our output shape is N x T x V, \n",
    "            # where N is batch size, T is sequence length, and V is vocab size,\n",
    "            # and our targets shape is N x T.\n",
    "            # CrossEntropyLoss expects scores in the form \n",
    "            # N x V x T, so we need to transpose     \n",
    "            loss = criterion(outputs.transpose(2, 1), targets)\n",
    "            \n",
    "            loss.backward()\n",
    "            optimizer.step()\n",
    "\n",
    "            train_loss.append(loss.item())\n",
    "            \n",
    "        train_loss = np.mean(train_loss)\n",
    "\n",
    "\n",
    "        if valid_loader is not None:\n",
    "            print ('Validating...    \\r', end = '')\n",
    "            model.eval()\n",
    "            valid_loss = []\n",
    "            for batch in valid_loader:\n",
    "                batch = {k: v.to(device) for k, v in batch.items()}\n",
    "                enc_input = batch['input_ids']\n",
    "                enc_mask = batch['attention_mask']\n",
    "                targets = batch['labels']\n",
    "                \n",
    "                \n",
    "                enc_input, enc_mask, dec_input, dec_mask, targets = preprocess_batch(batch)\n",
    "                \n",
    "                outputs = model(enc_input, dec_input, enc_mask, dec_mask)\n",
    "                loss = criterion(outputs.transpose(2, 1), targets)\n",
    "                valid_loss.append(loss.item())\n",
    "            \n",
    "            valid_loss = np.mean(valid_loss)\n",
    "        else:\n",
    "            valid_loss = np.nan\n",
    "        \n",
    "        train_losses[epoch] = train_loss\n",
    "        valid_losses[epoch] = valid_loss\n",
    "\n",
    "        translation = translate(\n",
    "            prompt = \"I am ready\", \n",
    "            model = model, \n",
    "            max_steps = 10,\n",
    "            tokenizer = tokenizer, \n",
    "            device = device\n",
    "            )\n",
    "\n",
    "        \n",
    "        if epoch%print_every == 0:\n",
    "            t1 = datetime.now() - t0\n",
    "            minutes, seconds = divmod(t1.total_seconds(), 60)\n",
    "            formatted_time = \"{:02}:{:02}\".format(int(minutes), int(seconds))\n",
    "            \n",
    "            \n",
    "            print (f'Epoch: {epoch}: Train loss: {train_loss:.2f}, Valid loss: {valid_loss:.2f}, Duration: {formatted_time}min, Text: {translation}')\n",
    "           \n",
    "           \n",
    "    return train_losses, valid_losses\n",
    "\n"
   ]
  },
  {
   "cell_type": "code",
   "execution_count": 27,
   "metadata": {},
   "outputs": [
    {
     "name": "stdout",
     "output_type": "stream",
     "text": [
      "Epoch: 0: Train loss: 3.61, Valid loss: 2.56, Duration: 03:15min, Text: Estoy cansado.</s>\n",
      "Epoch: 1: Train loss: 2.63, Valid loss: 2.13, Duration: 03:13min, Text: Estoy▁listo.</s>\n",
      "Epoch: 2: Train loss: 2.33, Valid loss: 1.90, Duration: 03:16min, Text: Estoy▁listo.</s>\n",
      "Epoch: 3: Train loss: 2.15, Valid loss: 1.77, Duration: 03:16min, Text: Estoy▁listo.</s>\n",
      "Epoch: 4: Train loss: 2.03, Valid loss: 1.67, Duration: 03:14min, Text: Estoy▁listo.</s>\n",
      "Epoch: 5: Train loss: 1.94, Valid loss: 1.62, Duration: 03:14min, Text: Estoy▁listo.</s>\n",
      "Epoch: 6: Train loss: 1.87, Valid loss: 1.55, Duration: 03:17min, Text: Estoy▁listo▁listo.</s>\n",
      "Epoch: 7: Train loss: 1.81, Valid loss: 1.51, Duration: 03:16min, Text: Estoy▁listo▁listo.</s>\n",
      "Epoch: 8: Train loss: 1.75, Valid loss: 1.46, Duration: 03:14min, Text: Estoy▁listo▁listo.</s>\n",
      "Epoch: 9: Train loss: 1.71, Valid loss: 1.44, Duration: 03:15min, Text: Estoy▁listo.</s>\n",
      "Epoch: 10: Train loss: 1.67, Valid loss: 1.41, Duration: 03:14min, Text: Estoy▁listo.</s>\n",
      "Epoch: 11: Train loss: 1.64, Valid loss: 1.38, Duration: 03:14min, Text: Estoy▁listo.</s>\n",
      "Epoch: 12: Train loss: 1.61, Valid loss: 1.34, Duration: 03:14min, Text: Estoy▁listo.</s>\n",
      "Epoch: 13: Train loss: 1.58, Valid loss: 1.34, Duration: 03:15min, Text: Estoy▁listo.</s>\n",
      "Epoch: 14: Train loss: 1.55, Valid loss: 1.32, Duration: 03:14min, Text: Estoy▁listo▁listo.</s>\n",
      "Epoch: 15: Train loss: 1.53, Valid loss: 1.31, Duration: 03:14min, Text: Estoy▁listo.</s>\n",
      "Epoch: 16: Train loss: 1.51, Valid loss: 1.28, Duration: 03:14min, Text: Estoy▁listo.</s>\n",
      "Epoch: 17: Train loss: 1.49, Valid loss: 1.27, Duration: 03:14min, Text: Estoy▁listo.</s>\n",
      "Epoch: 18: Train loss: 1.47, Valid loss: 1.26, Duration: 03:14min, Text: Estoy▁listo.</s>\n",
      "Epoch: 19: Train loss: 1.45, Valid loss: 1.25, Duration: 03:14min, Text: Estoy▁listo.</s>\n",
      "Epoch: 20: Train loss: 1.44, Valid loss: 1.24, Duration: 03:13min, Text: Estoy▁listo.</s>\n",
      "Epoch: 21: Train loss: 1.42, Valid loss: 1.23, Duration: 03:14min, Text: Estoy▁listo.</s>\n",
      "Epoch: 22: Train loss: 1.41, Valid loss: 1.22, Duration: 03:14min, Text: Estoy▁listo.</s>\n",
      "Epoch: 23: Train loss: 1.40, Valid loss: 1.21, Duration: 03:15min, Text: Estoy▁listo.</s>\n",
      "Epoch: 24: Train loss: 1.38, Valid loss: 1.20, Duration: 03:12min, Text: Estoy▁listo.</s>\n",
      "Epoch: 25: Train loss: 1.37, Valid loss: 1.18, Duration: 03:16min, Text: Estoy▁listo.</s>\n",
      "Epoch: 26: Train loss: 1.36, Valid loss: 1.18, Duration: 03:17min, Text: Estoy▁listo.</s>\n",
      "Epoch: 27: Train loss: 1.35, Valid loss: 1.17, Duration: 03:21min, Text: Estoy▁listo.</s>\n",
      "Epoch: 28: Train loss: 1.34, Valid loss: 1.17, Duration: 03:21min, Text: Estoy▁listo.</s>\n",
      "Epoch: 29: Train loss: 1.33, Valid loss: 1.16, Duration: 03:17min, Text: Estoy▁listo.</s>\n",
      "Epoch: 30: Train loss: 1.32, Valid loss: 1.15, Duration: 03:13min, Text: Estoy▁listo.</s>\n",
      "Epoch: 31: Train loss: 1.31, Valid loss: 1.15, Duration: 03:14min, Text: Estoy▁listo.</s>\n",
      "Epoch: 32: Train loss: 1.30, Valid loss: 1.14, Duration: 03:14min, Text: Estoy▁listo.</s>\n",
      "Epoch: 33: Train loss: 1.29, Valid loss: 1.13, Duration: 03:15min, Text: Estoy▁listo.</s>\n",
      "Epoch: 34: Train loss: 1.28, Valid loss: 1.12, Duration: 03:14min, Text: Estoy▁listo.</s>\n",
      "Epoch: 35: Train loss: 1.28, Valid loss: 1.13, Duration: 03:14min, Text: Estoy▁listo.</s>\n",
      "Epoch: 36: Train loss: 1.27, Valid loss: 1.12, Duration: 03:14min, Text: Estoy▁listo.</s>\n",
      "Epoch: 37: Train loss: 1.26, Valid loss: 1.12, Duration: 03:14min, Text: Estoy▁listo.</s>\n",
      "Epoch: 38: Train loss: 1.26, Valid loss: 1.10, Duration: 03:14min, Text: Estoy▁listo.</s>\n",
      "Epoch: 39: Train loss: 1.25, Valid loss: 1.11, Duration: 03:13min, Text: Estoy▁listo.</s>\n",
      "Epoch: 40: Train loss: 1.24, Valid loss: 1.11, Duration: 03:16min, Text: Estoy▁listo.</s>\n",
      "Epoch: 41: Train loss: 1.24, Valid loss: 1.11, Duration: 03:16min, Text: Estoy▁listo.</s>\n",
      "Epoch: 42: Train loss: 1.23, Valid loss: 1.10, Duration: 03:14min, Text: Estoy▁listo.</s>\n",
      "Epoch: 43: Train loss: 1.23, Valid loss: 1.10, Duration: 03:15min, Text: Estoy▁listo.</s>\n",
      "Epoch: 44: Train loss: 1.22, Valid loss: 1.09, Duration: 03:13min, Text: Estoy▁listo.</s>\n",
      "Epoch: 45: Train loss: 1.21, Valid loss: 1.08, Duration: 03:15min, Text: Estoy▁lista.</s>\n",
      "Epoch: 46: Train loss: 1.21, Valid loss: 1.08, Duration: 03:14min, Text: Estoy▁listo.</s>\n",
      "Epoch: 47: Train loss: 1.21, Valid loss: 1.09, Duration: 03:15min, Text: Estoy▁listo.</s>\n",
      "Epoch: 48: Train loss: 1.20, Valid loss: 1.07, Duration: 03:14min, Text: Estoy▁listo.</s>\n",
      "Epoch: 49: Train loss: 1.20, Valid loss: 1.08, Duration: 03:14min, Text: Estoy▁listo.</s>\n",
      "Epoch: 50: Train loss: 1.19, Valid loss: 1.07, Duration: 03:13min, Text: Estoy▁listo.</s>\n",
      "Epoch: 51: Train loss: 1.19, Valid loss: 1.07, Duration: 03:15min, Text: Estoy▁listo.</s>\n",
      "Epoch: 52: Train loss: 1.18, Valid loss: 1.07, Duration: 03:14min, Text: Estoy▁listo.</s>\n",
      "Epoch: 53: Train loss: 1.18, Valid loss: 1.07, Duration: 03:14min, Text: Estoy▁listo.</s>\n",
      "Epoch: 54: Train loss: 1.17, Valid loss: 1.05, Duration: 03:16min, Text: Estoy▁listo.</s>\n",
      "Epoch: 55: Train loss: 1.17, Valid loss: 1.06, Duration: 03:14min, Text: Estoy▁listo.</s>\n",
      "Epoch: 56: Train loss: 1.17, Valid loss: 1.06, Duration: 03:14min, Text: Estoy▁listo.</s>\n",
      "Epoch: 57: Train loss: 1.16, Valid loss: 1.05, Duration: 03:15min, Text: Estoy▁listo.</s>\n",
      "Epoch: 58: Train loss: 1.16, Valid loss: 1.05, Duration: 03:14min, Text: Estoy▁listo.</s>\n",
      "Epoch: 59: Train loss: 1.15, Valid loss: 1.05, Duration: 03:13min, Text: Estoy▁listo.</s>\n",
      "Epoch: 60: Train loss: 1.15, Valid loss: 1.06, Duration: 03:14min, Text: Estoy▁listo.</s>\n",
      "Epoch: 61: Train loss: 1.15, Valid loss: 1.05, Duration: 03:16min, Text: Estoy▁listo.</s>\n",
      "Epoch: 62: Train loss: 1.14, Valid loss: 1.04, Duration: 03:14min, Text: Estoy▁listo.</s>\n",
      "Epoch: 63: Train loss: 1.14, Valid loss: 1.04, Duration: 03:14min, Text: Estoy▁listo.</s>\n",
      "Epoch: 64: Train loss: 1.14, Valid loss: 1.04, Duration: 03:17min, Text: Estoy▁listo.</s>\n",
      "Epoch: 65: Train loss: 1.13, Valid loss: 1.04, Duration: 03:15min, Text: Estoy▁listo.</s>\n",
      "Epoch: 66: Train loss: 1.13, Valid loss: 1.03, Duration: 03:14min, Text: Estoy▁listo.</s>\n",
      "Epoch: 67: Train loss: 1.13, Valid loss: 1.04, Duration: 03:13min, Text: Estoy▁listo.</s>\n",
      "Epoch: 68: Train loss: 1.12, Valid loss: 1.04, Duration: 03:14min, Text: Estoy▁listo.</s>\n",
      "Epoch: 69: Train loss: 1.12, Valid loss: 1.03, Duration: 03:16min, Text: Estoy▁listo.</s>\n",
      "Epoch: 70: Train loss: 1.12, Valid loss: 1.03, Duration: 03:14min, Text: Estoy▁listo.</s>\n",
      "Epoch: 71: Train loss: 1.11, Valid loss: 1.03, Duration: 03:14min, Text: Estoy▁listo.</s>\n",
      "Epoch: 72: Train loss: 1.11, Valid loss: 1.03, Duration: 03:14min, Text: Estoy▁listo.</s>\n",
      "Epoch: 73: Train loss: 1.11, Valid loss: 1.03, Duration: 03:15min, Text: Estoy▁listo.</s>\n",
      "Epoch: 74: Train loss: 1.11, Valid loss: 1.03, Duration: 03:13min, Text: Estoy▁listo.</s>\n",
      "Epoch: 75: Train loss: 1.10, Valid loss: 1.03, Duration: 03:13min, Text: Estoy▁listo.</s>\n",
      "Epoch: 76: Train loss: 1.10, Valid loss: 1.02, Duration: 03:14min, Text: Estoy▁listo.</s>\n",
      "Epoch: 77: Train loss: 1.10, Valid loss: 1.02, Duration: 03:15min, Text: Estoy▁listo.</s>\n",
      "Epoch: 78: Train loss: 1.10, Valid loss: 1.01, Duration: 03:16min, Text: Estoy▁listo.</s>\n",
      "Epoch: 79: Train loss: 1.09, Valid loss: 1.02, Duration: 03:14min, Text: Estoy▁listo.</s>\n",
      "Epoch: 80: Train loss: 1.09, Valid loss: 1.02, Duration: 03:14min, Text: Estoy▁listo.</s>\n",
      "Epoch: 81: Train loss: 1.09, Valid loss: 1.02, Duration: 03:15min, Text: Estoy▁listo.</s>\n",
      "Epoch: 82: Train loss: 1.09, Valid loss: 1.02, Duration: 03:18min, Text: Estoy▁listo.</s>\n",
      "Epoch: 83: Train loss: 1.08, Valid loss: 1.02, Duration: 03:16min, Text: Estoy▁listo.</s>\n",
      "Epoch: 84: Train loss: 1.08, Valid loss: 1.01, Duration: 03:14min, Text: Estoy▁listo.</s>\n",
      "Epoch: 85: Train loss: 1.08, Valid loss: 1.02, Duration: 03:15min, Text: Estoy▁listo.</s>\n",
      "Epoch: 86: Train loss: 1.08, Valid loss: 1.01, Duration: 03:14min, Text: Estoy▁listo.</s>\n",
      "Epoch: 87: Train loss: 1.08, Valid loss: 1.01, Duration: 03:16min, Text: Estoy▁listo.</s>\n",
      "Epoch: 88: Train loss: 1.07, Valid loss: 1.01, Duration: 03:14min, Text: Estoy▁listo.</s>\n",
      "Epoch: 89: Train loss: 1.07, Valid loss: 1.01, Duration: 03:15min, Text: Estoy▁listo.</s>\n",
      "Epoch: 90: Train loss: 1.07, Valid loss: 1.01, Duration: 03:15min, Text: Estoy▁listo.</s>\n",
      "Epoch: 91: Train loss: 1.07, Valid loss: 1.00, Duration: 03:13min, Text: Estoy▁listo.</s>\n",
      "Epoch: 92: Train loss: 1.07, Valid loss: 1.01, Duration: 03:12min, Text: Estoy▁listo.</s>\n",
      "Epoch: 93: Train loss: 1.07, Valid loss: 1.01, Duration: 03:13min, Text: Estoy▁listo.</s>\n",
      "Epoch: 94: Train loss: 1.06, Valid loss: 1.00, Duration: 03:14min, Text: Estoy▁listo.</s>\n",
      "Epoch: 95: Train loss: 1.06, Valid loss: 1.00, Duration: 03:15min, Text: Estoy▁listo.</s>\n",
      "Epoch: 96: Train loss: 1.06, Valid loss: 1.01, Duration: 03:14min, Text: Estoy▁listo.</s>\n",
      "Epoch: 97: Train loss: 1.06, Valid loss: 1.01, Duration: 03:17min, Text: Estoy▁listo.</s>\n",
      "Epoch: 98: Train loss: 1.06, Valid loss: 1.00, Duration: 03:14min, Text: Estoy▁listo.</s>\n",
      "Epoch: 99: Train loss: 1.05, Valid loss: 1.00, Duration: 03:15min, Text: Estoy▁listo.</s>\n"
     ]
    }
   ],
   "source": [
    "train_losses, valid_losses = train(\n",
    "    model=transformer, \n",
    "    criterion=criterion, \n",
    "    optimizer=optimizer,   \n",
    "    train_loader=train_loader, \n",
    "    valid_loader=valid_loader, \n",
    "    epochs=100\n",
    ")"
   ]
  },
  {
   "cell_type": "code",
   "execution_count": 30,
   "metadata": {},
   "outputs": [
    {
     "data": {
      "text/plain": [
       "'Te amo.</s>'"
      ]
     },
     "execution_count": 30,
     "metadata": {},
     "output_type": "execute_result"
    }
   ],
   "source": [
    "translate('I love you', transformer)"
   ]
  },
  {
   "cell_type": "code",
   "execution_count": null,
   "metadata": {},
   "outputs": [],
   "source": []
  }
 ],
 "metadata": {
  "kernelspec": {
   "display_name": "hf",
   "language": "python",
   "name": "python3"
  },
  "language_info": {
   "codemirror_mode": {
    "name": "ipython",
    "version": 3
   },
   "file_extension": ".py",
   "mimetype": "text/x-python",
   "name": "python",
   "nbconvert_exporter": "python",
   "pygments_lexer": "ipython3",
   "version": "3.11.4"
  },
  "orig_nbformat": 4
 },
 "nbformat": 4,
 "nbformat_minor": 2
}
