{
 "cells": [
  {
   "cell_type": "markdown",
   "metadata": {},
   "source": [
    "# Encoder network implementation\n",
    "---\n",
    "### Formula\n",
    "$$Attention(Q, K, V) = softmax(\\frac{QK^T}{\\sqrt{d_k}})V$$\n",
    "\n",
    "\n",
    "\n",
    "#### Shapes (Attention)\n",
    "|Object             |Shape                    | Comment                                       |\n",
    "|-------------------|-------------------------|-----------------------------------------------|\n",
    "|$q_i, k_i$         | $d_k$                   | Query and Key representation (64 in paper)    |\n",
    "|$v_i$              | $d_v$                   | Value representation (64 in paper)            |\n",
    "|$x_i$              | $d_{model}$             | Word representation (embedding, 512 in paper) |\n",
    "|$W^{(Q)}, W^{(K)}$ | $d_{model} \\times d_k$  | Weight matrix                                 |\n",
    "|$W^{(V)}$          | $d_{model} \\times d_v$  | Weight matrix                                 |\n",
    "\n",
    "\n",
    "$ T $ - Sequence length\n",
    "\n",
    "$X (T \\times d_{model}) $ \n",
    "\n",
    "$Q = XW^{(Q)} \\rightarrow (T \\times d_{model}) \\times (d_{model} \\times d_k) \\rightarrow (T \\times d_k)$\n",
    "\n",
    "$K = XW^{(K)} \\rightarrow (T \\times d_{model}) \\times (d_{model} \\times d_k) \\rightarrow (T \\times d_k)$\n",
    "\n",
    "$V = XW^{(V)} \\rightarrow (T \\times d_{model}) \\times (d_{model} \\times d_v) \\rightarrow (T \\times d_v)$\n",
    "\n",
    "$QK^T \\rightarrow (T \\times d_k) \\times (d_k \\times T) \\rightarrow (T \\times T)$\n",
    "\n",
    "$\\frac{QK^T}{\\sqrt{d_k}} \\rightarrow (T \\times T)$\n",
    "\n",
    "$\\frac{QK^T}{\\sqrt{d_k}}V \\rightarrow (T \\times T) \\times (T \\times d_v) \\rightarrow (T \\times d_v)$\n",
    "\n",
    "\n",
    "\n",
    "\n",
    "\n"
   ]
  },
  {
   "cell_type": "code",
   "execution_count": 1,
   "metadata": {},
   "outputs": [],
   "source": [
    "import math\n",
    "import torch\n",
    "import torch.nn as nn\n",
    "import torch.nn.functional as F\n",
    "from torch.utils.data import dataset\n",
    " \n",
    "import numpy as np\n",
    "import matplotlib.pyplot as plt"
   ]
  },
  {
   "cell_type": "markdown",
   "metadata": {},
   "source": [
    " <img src=\"./images/attention.png\" alt=\"Attention and Multi-head Attention\" width=\"505\" />\n",
    " \n",
    "*Image from: https://data-science-blog.com/blog/2021/04/07/multi-head-attention-mechanism/*"
   ]
  },
  {
   "cell_type": "code",
   "execution_count": null,
   "metadata": {},
   "outputs": [],
   "source": [
    "class MultiHeadAttention(nn.Module):\n",
    "    def __init__(self, d_k, d_model, n_heads):\n",
    "        super().__init__()\n",
    "        \n",
    "        self.d_model = d_model\n",
    "        self.d_k = d_k\n",
    "        self.n_heads = n_heads\n",
    "        \n",
    "        self.query = nn.Linear(d_model, d_k * n_heads)\n",
    "        self.key = nn.Linear(d_model, d_k * n_heads)\n",
    "        self.value = nn.Linear(d_model, d_k * n_heads)\n",
    "        \n",
    "        self.out = nn.Linear(d_k * n_heads, d_model)\n",
    "        \n",
    "    def forward(self, q, k, v, mask=None):\n",
    "        \n",
    "        # Attention(Q, K, V) = softmax(QK^T / sqrt(d_k)) V\n",
    "        \n",
    "        q = self.query(q) # N x T x (h*d_k) \n",
    "        k = self.key(k)   # N x T x (h*d_k)\n",
    "        v = self.value(v) # N x T x (h*d_v) # d_v == d_k\n",
    "        \n",
    "        N = q.shape[0] # batch size\n",
    "        T = q.shape[1] # sequence length\n",
    "        \n",
    "        # Changing shapes (reuqing for matrix multiplication)\n",
    "        # view: (N, T, h*d_k) -> (N, T, h, d_k)\n",
    "        # transpose: (N, T, h, d_k) -> (N, h, T, d_k)\n",
    "        \n",
    "        q = q.view(N, T, self.n_heads, self.d_k).transpose(1, 2)\n",
    "        k = k.view(N, T, self.n_heads, self.d_k).transpose(1, 2)\n",
    "        v = v.view(N, T, self.n_heads, self.d_k).transpose(1, 2)\n",
    "        \n",
    "        # (N, h, T, d_k) x (N, h, d_k, T) -> (N, h, T, T)\n",
    "        atention_scores = q * k.transpose(-2, -1) / np.sqrt(self.d_k)\n",
    "        \n",
    "        if mask is not None:\n",
    "            # Mask has (N, T) shape, so we need to add two (inner) dimensions\n",
    "            # We also change zeros with -inf, so that softmax will ignore these values\n",
    "            atention_scores = atention_scores.masked_fill(\n",
    "                 mask[:, None, None, :] == 0, float('-inf')\n",
    "                 )\n",
    "        attention_weights = F.softmax(atention_scores, dim=-1)\n",
    "        \n",
    "        A = attention_weights @ v\n",
    "        \n",
    "        # Reshape (N, h, T, d_k) -> (N, T, h, d_k) -> (N, T, h*d_k)\n",
    "        A = A.transpose(1, 2)\n",
    "        \n",
    "        # Concatenate\n",
    "        A = A.contiguous().view(N, T, self.n_heads * self.d_k)\n",
    "        \n",
    "        return self.out(A)\n",
    "        \n",
    "        \n",
    "                "
   ]
  },
  {
   "cell_type": "markdown",
   "metadata": {},
   "source": [
    "\n",
    " <img src=\"./images/TransformerBlock.png\" alt=\"Transformer Block\" width=\"300\" />\n",
    " \n",
    "*Image from: Duan, Wenying & Jiang, Liu & Wang, Ning & Rao, Hong. (2019). Pre-Trained Bidirectional Temporal Representation for Crowd Flows Prediction in Regular Region. IEEE Access. PP. 1-1. 10.1109/ACCESS.2019.2944990.* "
   ]
  },
  {
   "cell_type": "code",
   "execution_count": null,
   "metadata": {},
   "outputs": [],
   "source": [
    "class TransformetBlock(nn.Module):\n",
    "    def __init__(self, d_k, d_model, n_heads, dropout=0.1):\n",
    "        super().__init__()\n",
    "        \n",
    "        self.ln1 = nn.LayerNorm(d_model)\n",
    "        \n",
    "        self.attention = MultiHeadAttention(d_k, d_model, n_heads)\n",
    "        self.norm1 = nn.LayerNorm(d_model)\n",
    "        self.norm2 = nn.LayerNorm(d_model)\n",
    "        self.dropout = nn.Dropout(dropout)\n",
    "        \n",
    "        self.ff = nn.Sequential(\n",
    "            nn.Linear(d_model, 4 * d_model),\n",
    "            nn.GELU(),\n",
    "            nn.Linear(4 * d_model, d_model)\n",
    "        )\n",
    "        \n",
    "    def forward(self, x, mask=None):\n",
    "        x = self.ln1(x + self.attention(x, x, x, mask))\n",
    "        x = self.ln2(x + self.ff(x))\n",
    "        x = self.dropout(x)\n",
    "        return x"
   ]
  },
  {
   "cell_type": "markdown",
   "metadata": {},
   "source": [
    "### Positional encoding\n",
    "\n",
    "\n",
    "$$PE_{(pos, 2i)}=sin(pos/10000^{2i/d_{model}})$$\n",
    "$$PE_{(pos, 2i+1)}=cos(pos/10000^{2i/d_{model}})$$\n",
    "\n",
    "\n",
    "This line requires additional explanations:\n",
    "```bash\n",
    "div_term = torch.exp(exp_term * (-math.log(10000.0) / d_model))\n",
    "```\n",
    "Generally, this is exactly $$1/(10000^{2i/d_{model}})$$, and we are doing it for numerical stability only. Let's do the math:\n",
    "\n",
    "$$10,000^{\\frac{2i}{d_{model}}}$$\n",
    "$$=(e^{log(10,000)})^{\\frac{2i}{d_{model}}}$$\n",
    "$$=e^{\\frac{2i * log(10,000)}{d_{model}}}$$\n",
    "\n",
    "Additionaly, we use $-log(10,000)$ because we want $1/(10000^{2i/d_{model}})$ and\n",
    "$$a^{-n} = \\frac{1}{a^n}$$ "
   ]
  },
  {
   "cell_type": "code",
   "execution_count": null,
   "metadata": {},
   "outputs": [],
   "source": [
    "class PositionalEncoding(nn.Module):\n",
    "    def __init__(self, d_model, max_len=2048, dropout=0.1):\n",
    "        super().__init__()\n",
    "        self.dropout = nn.Dropout(dropout)\n",
    "        \n",
    "        # [ [0], [1], [2], ..., [max_len-1] ]\n",
    "        # 2d array of size max_len x 1\n",
    "        position = torch.arange(max_len).unsqueeze(1)\n",
    "        \n",
    "        #[0, 2, 4, ...]\n",
    "        exp_term = torch.arange(0, d_model, 2) \n",
    "        \n",
    "        \n",
    "        div_term = torch.exp(exp_term * (-math.log(10000.0) / d_model))\n",
    "        pe = torch.zeros(1, max_len, d_model)\n",
    "        \n",
    "        pe[0, :, 0::2] = torch.sin(position * div_term)\n",
    "        pe[0, :, 1::2] = torch.cos(position * div_term)\n",
    "        \n",
    "        self.register_buffer('pe', pe)\n",
    "        \n",
    "        def forward(self, x):\n",
    "            # x.shape: N x T x D\n",
    "            x = x + self.pe[:, :x.size(1), :]\n",
    "            return self.dropout(x)\n",
    "        \n",
    "        \n",
    "        "
   ]
  },
  {
   "cell_type": "code",
   "execution_count": 4,
   "metadata": {},
   "outputs": [
    {
     "data": {
      "text/plain": [
       "tensor([0, 2, 4, 6, 8])"
      ]
     },
     "execution_count": 4,
     "metadata": {},
     "output_type": "execute_result"
    }
   ],
   "source": [
    "torch.arange(0, 10, 2)"
   ]
  },
  {
   "cell_type": "code",
   "execution_count": null,
   "metadata": {},
   "outputs": [],
   "source": []
  }
 ],
 "metadata": {
  "kernelspec": {
   "display_name": "pytorch",
   "language": "python",
   "name": "python3"
  },
  "language_info": {
   "codemirror_mode": {
    "name": "ipython",
    "version": 3
   },
   "file_extension": ".py",
   "mimetype": "text/x-python",
   "name": "python",
   "nbconvert_exporter": "python",
   "pygments_lexer": "ipython3",
   "version": "3.11.4"
  },
  "orig_nbformat": 4
 },
 "nbformat": 4,
 "nbformat_minor": 2
}
