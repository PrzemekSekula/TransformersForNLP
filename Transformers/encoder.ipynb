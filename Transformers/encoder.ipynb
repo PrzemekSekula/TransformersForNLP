{
 "cells": [
  {
   "cell_type": "markdown",
   "metadata": {},
   "source": [
    "# Encoder network implementation\n",
    "---\n",
    "### Formula\n",
    "$$Attention(Q, K, V) = softmax(\\frac{QK^T}{\\sqrt{d_k}})V$$\n",
    "\n",
    "\n",
    "\n",
    "#### Shapes (Attention)\n",
    "|Object             |Shape                    | Comment                                       |\n",
    "|-------------------|-------------------------|-----------------------------------------------|\n",
    "|$q_i, k_i$         | $d_k$                   | Query and Key representation (64 in paper)    |\n",
    "|$v_i$              | $d_v$                   | Value representation (64 in paper)            |\n",
    "|$x_i$              | $d_{model}$             | Word representation (embedding, 512 in paper) |\n",
    "|$W^{(Q)}, W^{(K)}$ | $d_{model} \\times d_k$  | Weight matrix                                 |\n",
    "|$W^{(V)}$          | $d_{model} \\times d_v$  | Weight matrix                                 |\n",
    "\n",
    "\n",
    "$ T $ - Sequence length\n",
    "\n",
    "$X (T \\times d_{model}) $ \n",
    "\n",
    "$Q = XW^{(Q)} \\rightarrow (T \\times d_{model}) \\times (d_{model} \\times d_k) \\rightarrow (T \\times d_k)$\n",
    "\n",
    "$K = XW^{(K)} \\rightarrow (T \\times d_{model}) \\times (d_{model} \\times d_k) \\rightarrow (T \\times d_k)$\n",
    "\n",
    "$V = XW^{(V)} \\rightarrow (T \\times d_{model}) \\times (d_{model} \\times d_v) \\rightarrow (T \\times d_v)$\n",
    "\n",
    "$QK^T \\rightarrow (T \\times d_k) \\times (d_k \\times T) \\rightarrow (T \\times T)$\n",
    "\n",
    "$\\frac{QK^T}{\\sqrt{d_k}} \\rightarrow (T \\times T)$\n",
    "\n",
    "$\\frac{QK^T}{\\sqrt{d_k}}V \\rightarrow (T \\times T) \\times (T \\times d_v) \\rightarrow (T \\times d_v)$\n",
    "\n",
    "\n",
    "\n",
    "\n",
    "\n"
   ]
  },
  {
   "cell_type": "code",
   "execution_count": null,
   "metadata": {},
   "outputs": [],
   "source": [
    "import math\n",
    "import torch\n",
    "import torch.nn as nn\n",
    "import torch.nn.functional as F\n",
    "from torch.utils.data import dataset\n",
    " \n",
    "import numpy as np\n",
    "import matplotlib.pyplot as plt\n",
    "\n",
    "from datetime import datetime"
   ]
  },
  {
   "cell_type": "markdown",
   "metadata": {},
   "source": [
    " <img src=\"./images/attention.png\" alt=\"Attention and Multi-head Attention\" width=\"505\" />\n",
    " \n",
    "*Image from [Attention is All you need](https://arxiv.org/abs/1706.03762) paper*"
   ]
  },
  {
   "cell_type": "code",
   "execution_count": null,
   "metadata": {},
   "outputs": [],
   "source": [
    "class MultiHeadAttention(nn.Module):\n",
    "    def __init__(self, d_k, d_model, n_heads):\n",
    "        super().__init__()\n",
    "        \n",
    "        self.d_model = d_model\n",
    "        self.d_k = d_k\n",
    "        self.n_heads = n_heads\n",
    "        \n",
    "        self.query = nn.Linear(d_model, d_k * n_heads)\n",
    "        self.key = nn.Linear(d_model, d_k * n_heads)\n",
    "        self.value = nn.Linear(d_model, d_k * n_heads)\n",
    "        \n",
    "        self.out = nn.Linear(d_k * n_heads, d_model)\n",
    "        \n",
    "    def forward(self, q, k, v, pad_mask=None):\n",
    "        \n",
    "        # Attention(Q, K, V) = softmax(QK^T / sqrt(d_k)) V\n",
    "        \n",
    "        q = self.query(q) # N x T x (h*d_k) \n",
    "        k = self.key(k)   # N x T x (h*d_k)\n",
    "        v = self.value(v) # N x T x (h*d_v) # d_v == d_k\n",
    "        \n",
    "        N = q.shape[0] # batch size\n",
    "        T = q.shape[1] # sequence length\n",
    "        \n",
    "        # Changing shapes (reuqired for matrix multiplication)\n",
    "        # view: (N, T, h*d_k) -> (N, T, h, d_k)\n",
    "        # transpose: (N, T, h, d_k) -> (N, h, T, d_k)\n",
    "        \n",
    "        q = q.view(N, T, self.n_heads, self.d_k).transpose(1, 2)\n",
    "        k = k.view(N, T, self.n_heads, self.d_k).transpose(1, 2)\n",
    "        v = v.view(N, T, self.n_heads, self.d_k).transpose(1, 2)\n",
    "        \n",
    "        # (N, h, T, d_k) x (N, h, d_k, T) -> (N, h, T, T)\n",
    "        atention_scores = q @ k.transpose(-2, -1) / math.sqrt(self.d_k)\n",
    "        \n",
    "        if pad_mask is not None:\n",
    "            # Mask has (N, T) shape, so we need to add two (inner) dimensions\n",
    "            # We also change zeros with -inf, so that softmax will ignore these values\n",
    "            atention_scores = atention_scores.masked_fill(\n",
    "                 pad_mask[:, None, None, :] == 0, float('-inf')\n",
    "                 )\n",
    "        attention_weights = F.softmax(atention_scores, dim=-1)\n",
    "        \n",
    "        A = attention_weights @ v\n",
    "        \n",
    "        # Reshape (N, h, T, d_k) -> (N, T, h, d_k) -> (N, T, h*d_k)\n",
    "        A = A.transpose(1, 2)\n",
    "        \n",
    "        # Concatenate\n",
    "        A = A.contiguous().view(N, T, self.n_heads * self.d_k)\n",
    "        \n",
    "        return self.out(A)\n",
    "        \n",
    "        \n",
    "                "
   ]
  },
  {
   "cell_type": "markdown",
   "metadata": {},
   "source": [
    "\n",
    " <img src=\"./images/TransformerBlock.png\" alt=\"Transformer Block\" width=\"300\" />\n",
    " \n",
    "*Image from: Duan, Wenying & Jiang, Liu & Wang, Ning & Rao, Hong. (2019). Pre-Trained Bidirectional Temporal Representation for Crowd Flows Prediction in Regular Region. IEEE Access. PP. 1-1. 10.1109/ACCESS.2019.2944990.* "
   ]
  },
  {
   "cell_type": "code",
   "execution_count": null,
   "metadata": {},
   "outputs": [],
   "source": [
    "class TransformerBlock(nn.Module):\n",
    "    def __init__(self, d_k, d_model, n_heads, dropout=0.1):\n",
    "        super().__init__()\n",
    "                \n",
    "        self.attention = MultiHeadAttention(d_k, d_model, n_heads)\n",
    "        self.norm1 = nn.LayerNorm(d_model)\n",
    "        self.norm2 = nn.LayerNorm(d_model)\n",
    "        self.dropout = nn.Dropout(dropout)\n",
    "        \n",
    "        self.ff = nn.Sequential(\n",
    "            nn.Linear(d_model, 4 * d_model),\n",
    "            nn.GELU(),\n",
    "            nn.Linear(4 * d_model, d_model)\n",
    "        )\n",
    "        \n",
    "    def forward(self, x, pad_mask=None):\n",
    "        x = self.norm1(x + self.attention(x, x, x, pad_mask))\n",
    "        x = self.norm2(x + self.ff(x))\n",
    "        x = self.dropout(x)\n",
    "        return x"
   ]
  },
  {
   "cell_type": "markdown",
   "metadata": {},
   "source": [
    "### Positional encoding\n",
    "\n",
    "\n",
    "$$PE_{(pos, 2i)}=sin(pos/10000^{2i/d_{model}})$$\n",
    "$$PE_{(pos, 2i+1)}=cos(pos/10000^{2i/d_{model}})$$\n",
    "\n",
    "\n",
    "This line requires additional explanations:\n",
    "```bash\n",
    "div_term = torch.exp(exp_term * (-math.log(10000.0) / d_model))\n",
    "```\n",
    "Generally, this is exactly $$1/(10000^{2i/d_{model}})$$, and we are doing it for numerical stability only. Let's do the math:\n",
    "\n",
    "$$10,000^{\\frac{2i}{d_{model}}}$$\n",
    "$$=(e^{log(10,000)})^{\\frac{2i}{d_{model}}}$$\n",
    "$$=e^{\\frac{2i * log(10,000)}{d_{model}}}$$\n",
    "\n",
    "Additionaly, we use $-log(10,000)$ because we want $1/(10000^{2i/d_{model}})$ and\n",
    "$$a^{-n} = \\frac{1}{a^n}$$ "
   ]
  },
  {
   "cell_type": "code",
   "execution_count": null,
   "metadata": {},
   "outputs": [],
   "source": [
    "class PositionalEncoding(nn.Module):\n",
    "    def __init__(self, d_model, max_len=2048, dropout=0.1):\n",
    "        super().__init__()\n",
    "        self.dropout = nn.Dropout(dropout)\n",
    "        \n",
    "        # [ [0], [1], [2], ..., [max_len-1] ]\n",
    "        # 2d array of size max_len x 1\n",
    "        position = torch.arange(max_len).unsqueeze(1)\n",
    "        \n",
    "        #[0, 2, 4, ...]\n",
    "        exp_term = torch.arange(0, d_model, 2) \n",
    "        \n",
    "        \n",
    "        div_term = torch.exp(exp_term * (-math.log(10000.0) / d_model))\n",
    "        pe = torch.zeros(1, max_len, d_model)\n",
    "        \n",
    "        pe[0, :, 0::2] = torch.sin(position * div_term)\n",
    "        pe[0, :, 1::2] = torch.cos(position * div_term)\n",
    "        \n",
    "        self.register_buffer('pe', pe)\n",
    "        \n",
    "    def forward(self, x):\n",
    "        # x.shape: N x T x D\n",
    "        x = x + self.pe[:, :x.size(1), :]\n",
    "        return self.dropout(x)\n",
    "        \n",
    "        \n",
    "        "
   ]
  },
  {
   "cell_type": "markdown",
   "metadata": {},
   "source": [
    "### Encoder"
   ]
  },
  {
   "cell_type": "code",
   "execution_count": null,
   "metadata": {},
   "outputs": [],
   "source": [
    "class Encoder(nn.Module):\n",
    "    def __init__(\n",
    "        self, \n",
    "        vocab_size : int,\n",
    "        max_len : int,\n",
    "        d_k : int,\n",
    "        d_model : int,\n",
    "        n_heads : int,\n",
    "        n_layers : int,\n",
    "        n_classes : int,\n",
    "        dropout : float = 0.1,\n",
    "    ):\n",
    "    \n",
    "        super().__init__()\n",
    "        \n",
    "        self.embedding = nn.Embedding(vocab_size, d_model)\n",
    "        self.pos_encoding = PositionalEncoding(d_model, max_len, dropout=dropout)\n",
    "        transformer_blocks = [\n",
    "            TransformerBlock(d_k, d_model, n_heads, dropout=dropout)\n",
    "            for _ in range(n_layers)\n",
    "        ]\n",
    "        \n",
    "        self.transformer_blocks = nn.Sequential(*transformer_blocks)\n",
    "        self.norm = nn.LayerNorm(d_model)\n",
    "        self.out = nn.Linear(d_model, n_classes)\n",
    "        \n",
    "    def forward(self, x, pad_mask = None):\n",
    "        x = self.embedding(x)\n",
    "        x = self.pos_encoding(x)\n",
    "        for block in self.transformer_blocks:\n",
    "            x = block(x, pad_mask)\n",
    "        \n",
    "        # This is tricky. We assume that we are doing text classification\n",
    "        # and we only care about the first token\n",
    "        # As e result, the dimension is changed\n",
    "        # N x T x D -> N x D   \n",
    "        x = x[:, 0, :]\n",
    "        \n",
    "        x = self.norm(x)\n",
    "        return self.out(x)\n",
    "        \n",
    "        "
   ]
  },
  {
   "cell_type": "code",
   "execution_count": null,
   "metadata": {},
   "outputs": [],
   "source": [
    "model = Encoder(\n",
    "    vocab_size=20_000,\n",
    "    max_len = 1024,\n",
    "    d_k = 16,\n",
    "    d_model = 64,\n",
    "    n_heads = 4,\n",
    "    n_layers = 2,\n",
    "    n_classes = 5,\n",
    "    dropout = 0.1,\n",
    ")\n",
    "\n",
    "device = torch.device(\"cuda\" if torch.cuda.is_available() else \"cpu\")\n",
    "print (device)\n",
    "model.to(device)"
   ]
  },
  {
   "cell_type": "markdown",
   "metadata": {},
   "source": [
    "Let's test if the model works"
   ]
  },
  {
   "cell_type": "code",
   "execution_count": null,
   "metadata": {},
   "outputs": [],
   "source": [
    "batch_size = 16\n",
    "nr_words = 512\n",
    "x = np.random.randint(0, 20_000, size=(batch_size, nr_words))\n",
    "x_t = torch.tensor(x).to(device)\n",
    "\n",
    "mask = np.ones((batch_size, nr_words))\n",
    "mask[:, 256:] = 0\n",
    "mask_t = torch.tensor(mask).to(device)\n",
    "\n",
    "y = model(x_t, mask_t)\n",
    "y.shape"
   ]
  },
  {
   "cell_type": "markdown",
   "metadata": {},
   "source": [
    "## Training and evaluation"
   ]
  },
  {
   "cell_type": "code",
   "execution_count": null,
   "metadata": {},
   "outputs": [],
   "source": [
    "from transformers import AutoTokenizer, DataCollatorWithPadding\n",
    "\n",
    "checkpoint = 'distilbert-base-cased'\n",
    "tokenizer = AutoTokenizer.from_pretrained(checkpoint)"
   ]
  },
  {
   "cell_type": "code",
   "execution_count": null,
   "metadata": {},
   "outputs": [],
   "source": [
    "from datasets import load_dataset\n",
    "raw_datasets = load_dataset('glue', 'sst2')\n",
    "raw_datasets"
   ]
  },
  {
   "cell_type": "code",
   "execution_count": null,
   "metadata": {},
   "outputs": [],
   "source": [
    "raw_datasets['train'][0]"
   ]
  },
  {
   "cell_type": "code",
   "execution_count": null,
   "metadata": {},
   "outputs": [],
   "source": [
    "def tokenize_fn(batch):\n",
    "    return tokenizer(batch['sentence'], truncation=True)\n",
    "\n",
    "tokenized_datasets = raw_datasets.map(tokenize_fn, batched=True)\n",
    "tokenized_datasets"
   ]
  },
  {
   "cell_type": "code",
   "execution_count": null,
   "metadata": {},
   "outputs": [],
   "source": [
    "data_collator = DataCollatorWithPadding(tokenizer=tokenizer)\n",
    "data_collator"
   ]
  },
  {
   "cell_type": "code",
   "execution_count": null,
   "metadata": {},
   "outputs": [],
   "source": [
    "# Remove obsolete columns from datasets\n",
    "tokenized_datasets = tokenized_datasets.remove_columns([\"sentence\", \"idx\"])\n",
    "tokenized_datasets = tokenized_datasets.rename_column(\"label\", \"labels\")\n",
    "tokenized_datasets"
   ]
  },
  {
   "cell_type": "code",
   "execution_count": null,
   "metadata": {},
   "outputs": [],
   "source": [
    "from torch.utils.data import DataLoader\n",
    "train_loader = DataLoader(\n",
    "    tokenized_datasets['train'], \n",
    "    batch_size=32, \n",
    "    shuffle=True,\n",
    "    collate_fn=data_collator\n",
    "    )\n",
    "\n",
    "valid_loader = DataLoader(\n",
    "    tokenized_datasets['validation'], \n",
    "    batch_size=32, \n",
    "    collate_fn=data_collator\n",
    "    )"
   ]
  },
  {
   "cell_type": "code",
   "execution_count": null,
   "metadata": {},
   "outputs": [],
   "source": [
    "for batch in train_loader:\n",
    "    for k, v in batch.items():\n",
    "        print(f'k: {k}, v.shape: {v.shape}')\n",
    "    break"
   ]
  },
  {
   "cell_type": "code",
   "execution_count": null,
   "metadata": {},
   "outputs": [],
   "source": [
    "print ('Nr classes:', set(tokenized_datasets['train']['labels']))\n",
    "print ('Vocab size:', tokenizer.vocab_size)\n",
    "# Can also be max_model_input_sizes to display sizes for all models\n",
    "print ('Max length:', tokenizer.model_max_length)\n"
   ]
  },
  {
   "cell_type": "code",
   "execution_count": null,
   "metadata": {},
   "outputs": [],
   "source": [
    "model = Encoder(\n",
    "    vocab_size=tokenizer.vocab_size,\n",
    "    max_len = tokenizer.model_max_length,\n",
    "    d_k = 16,\n",
    "    d_model = 64,\n",
    "    n_heads = 4,\n",
    "    n_layers = 2,\n",
    "    n_classes = 2,\n",
    "    dropout = 0.1,\n",
    ")\n",
    "\n",
    "model.to(device)"
   ]
  },
  {
   "cell_type": "code",
   "execution_count": null,
   "metadata": {},
   "outputs": [],
   "source": [
    "criterion = nn.CrossEntropyLoss()\n",
    "optimizer = torch.optim.Adam(model.parameters(), lr=0.001)"
   ]
  },
  {
   "cell_type": "code",
   "execution_count": null,
   "metadata": {},
   "outputs": [],
   "source": [
    "def train(model, criterion, optimizer, \n",
    "          train_loader, valid_loader, \n",
    "          epochs, print_every = 1):\n",
    "    train_losses = np.zeros(epochs)\n",
    "    valid_losses = np.zeros(epochs)\n",
    "    \n",
    "    for it in range(epochs):\n",
    "        model.train()\n",
    "        t0 = datetime.now()\n",
    "        train_loss = 0\n",
    "        n_train = 0\n",
    "        \n",
    "        for batch in train_loader:\n",
    "            batch = {k: v.to(device) for k, v in batch.items()} # Move data to GPU\n",
    "            optimizer.zero_grad()\n",
    "            outputs = model(batch[\"input_ids\"], batch[\"attention_mask\"])\n",
    "            loss = criterion(outputs, batch[\"labels\"])\n",
    "            \n",
    "            loss.backward()\n",
    "            optimizer.step()\n",
    "            \n",
    "            train_loss += loss.item()*batch[\"input_ids\"].size(0)\n",
    "            n_train += batch[\"input_ids\"].size(0)\n",
    "\n",
    "        train_loss /= n_train\n",
    "        \n",
    "        model.eval()\n",
    "        valid_loss = 0\n",
    "        n_valid = 0\n",
    "        for batch in valid_loader:\n",
    "            batch = {k: v.to(device) for k, v in batch.items()}\n",
    "            outputs = model(batch[\"input_ids\"], batch[\"attention_mask\"])\n",
    "            loss = criterion(outputs, batch[\"labels\"])\n",
    "            valid_loss += loss.item()*batch[\"input_ids\"].size(0)\n",
    "            n_valid += batch[\"input_ids\"].size(0)\n",
    "        \n",
    "        valid_loss /= n_valid\n",
    "        \n",
    "        train_losses[it] = train_loss\n",
    "        valid_losses[it] = valid_loss\n",
    "        \n",
    "        if it%print_every == 0:\n",
    "            print (f'Epoch: {it}: Train loss: {train_loss:.4f}, Valid loss: {valid_loss:.4f}, Duration: {datetime.now() - t0}')\n",
    "        \n",
    "    return train_losses, valid_losses\n",
    "        "
   ]
  },
  {
   "cell_type": "code",
   "execution_count": null,
   "metadata": {},
   "outputs": [],
   "source": [
    "train_losses, valid_losses = train(\n",
    "    model, criterion, optimizer, \n",
    "    train_loader, valid_loader,\n",
    "    epochs=4, print_every=1)"
   ]
  },
  {
   "cell_type": "code",
   "execution_count": null,
   "metadata": {},
   "outputs": [],
   "source": [
    "def get_metrics(model, loader):\n",
    "    n_correct = 0.\n",
    "    true_positives = 0.\n",
    "    true_negatives = 0.\n",
    "    false_positives = 0.\n",
    "    false_negatives = 0.\n",
    "    n_total = 0.\n",
    "    \n",
    "    for batch in loader:\n",
    "        batch = {k: v.to(device) for k, v in batch.items()}\n",
    "        output = model(batch['input_ids'], batch['attention_mask'])\n",
    "\n",
    "        _, pred = torch.max(output, 1)\n",
    "        n_correct += (pred == batch['labels']).sum().item()\n",
    "        \n",
    "        true_positives += (pred * batch['labels']).sum().item()\n",
    "        true_negatives += ((1 - pred) * (1 - batch['labels'])).sum().item()\n",
    "        false_positives += (pred * (1 - batch['labels'])).sum().item()\n",
    "        false_negatives += ((1 - pred) * batch['labels']).sum().item()\n",
    "        \n",
    "        n_total += batch['labels'].shape[0]\n",
    "        \n",
    "        \n",
    "        accuracy = 100 * n_correct / n_total\n",
    "        precision = 100 * true_positives / (true_positives + false_positives)\n",
    "        recall = 100 * true_positives / (true_positives + false_negatives)\n",
    "        \n",
    "    return  accuracy, precision, recall\n",
    "\n",
    "model.eval()\n",
    "train_acc, train_prec, train_rec = get_metrics(model, train_loader)\n",
    "valid_acc, valid_prec, valid_rec = get_metrics(model, valid_loader)\n",
    "\n",
    "print (f'Train acc: {train_acc:.2f}%, valid acc: {valid_acc:.2f}%')\n",
    "print (f'Train precision: {train_prec:.2f}%, valid prec: {valid_prec:.2f}%')\n",
    "print (f'Train recall: {train_rec:.2f}%, valid recall: {valid_rec:.2f}%')"
   ]
  },
  {
   "cell_type": "code",
   "execution_count": null,
   "metadata": {},
   "outputs": [],
   "source": []
  }
 ],
 "metadata": {
  "kernelspec": {
   "display_name": "pytorch",
   "language": "python",
   "name": "python3"
  },
  "language_info": {
   "codemirror_mode": {
    "name": "ipython",
    "version": 3
   },
   "file_extension": ".py",
   "mimetype": "text/x-python",
   "name": "python",
   "nbconvert_exporter": "python",
   "pygments_lexer": "ipython3",
   "version": "3.11.4"
  },
  "orig_nbformat": 4
 },
 "nbformat": 4,
 "nbformat_minor": 2
}
